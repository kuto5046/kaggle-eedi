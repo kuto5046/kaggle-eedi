{
 "cells": [
  {
   "cell_type": "code",
   "execution_count": null,
   "metadata": {},
   "outputs": [],
   "source": [
    "import polars as pl\n",
    "from sklearn.model_selection import GroupKFold, StratifiedKFold, KFold\n",
    "import numpy as np"
   ]
  },
  {
   "cell_type": "code",
   "execution_count": null,
   "metadata": {},
   "outputs": [],
   "source": [
    "# df = pl.read_csv(\"/home/user/work/output/exp052/run0/train.csv\")\n",
    "# df.group_by(\"fold\").agg(pl.mean(\"QuestionId\")).sort(\"fold\")"
   ]
  },
  {
   "cell_type": "code",
   "execution_count": null,
   "metadata": {},
   "outputs": [],
   "source": [
    "# df.filter(pl.col(\"fold\") == 0).select(\"QuestionId_Answer\").sort(\"QuestionId_Answer\")"
   ]
  },
  {
   "cell_type": "code",
   "execution_count": null,
   "metadata": {},
   "outputs": [],
   "source": [
    "def preprocess_table(df: pl.DataFrame, common_cols: list[str]) -> pl.DataFrame:\n",
    "    long_df = (\n",
    "        df.select(pl.col(common_cols + [f\"Answer{alpha}Text\" for alpha in [\"A\", \"B\", \"C\", \"D\"]]))\n",
    "        .unpivot(\n",
    "            index=common_cols,\n",
    "            variable_name=\"AnswerType\",\n",
    "            value_name=\"AnswerText\",\n",
    "        )\n",
    "        .with_columns(\n",
    "            pl.col(\"AnswerType\").str.extract(r\"Answer([A-D])Text$\").alias(\"AnswerAlphabet\"),\n",
    "        )\n",
    "        .with_columns(\n",
    "            pl.concat_str([pl.col(\"QuestionId\"), pl.col(\"AnswerAlphabet\")], separator=\"_\").alias(\"QuestionId_Answer\"),\n",
    "        )\n",
    "        .sort(\"QuestionId_Answer\")\n",
    "    )\n",
    "    # 問題-正解-不正解のペアを作る\n",
    "    correct_df = (\n",
    "        long_df.filter(pl.col(\"CorrectAnswer\") == pl.col(\"AnswerAlphabet\"))\n",
    "        .select([\"QuestionId\", \"AnswerAlphabet\", \"AnswerText\"])\n",
    "        .rename({\"AnswerAlphabet\": \"CorrectAnswerAlphabet\", \"AnswerText\": \"CorrectAnswerText\"})\n",
    "    )\n",
    "    long_df = (\n",
    "        long_df.join(correct_df, on=[\"QuestionId\"], how=\"left\")\n",
    "        .rename({\"AnswerAlphabet\": \"InCorrectAnswerAlphabet\", \"AnswerText\": \"InCorrectAnswerText\"})\n",
    "        .filter(pl.col(\"InCorrectAnswerAlphabet\") != pl.col(\"CorrectAnswerAlphabet\"))\n",
    "        .drop([\"AnswerType\", \"CorrectAnswer\"])\n",
    "    )\n",
    "    long_df = long_df.with_columns(\n",
    "        pl.concat_str(\n",
    "            [\n",
    "                pl.lit(\"\\n## Construct\\n\"),\n",
    "                pl.col(\"ConstructName\"),\n",
    "                pl.lit(\"\\n## Subject\\n\"),\n",
    "                pl.col(\"SubjectName\"),\n",
    "                pl.lit(\"\\n## Question\\n\"),\n",
    "                pl.col(\"QuestionText\"),\n",
    "                pl.lit(\"\\n## CorrectAnswer\\n\"),\n",
    "                pl.col(\"CorrectAnswerText\"),\n",
    "                pl.lit(\"\\n## InCorrectAnswer\\n\"),\n",
    "                pl.col(\"InCorrectAnswerText\"),\n",
    "            ],\n",
    "            separator=\"\",\n",
    "        ).alias(\"AllText\")\n",
    "    )\n",
    "    return long_df\n",
    "\n",
    "\n",
    "def preprocess_misconception(df: pl.DataFrame, common_cols: list[str]) -> pl.DataFrame:\n",
    "    misconception = (\n",
    "        df.select(pl.col(common_cols + [f\"Misconception{alpha}Id\" for alpha in [\"A\", \"B\", \"C\", \"D\"]]))\n",
    "        .unpivot(\n",
    "            index=common_cols,\n",
    "            variable_name=\"MisconceptionType\",\n",
    "            value_name=\"MisconceptionId\",\n",
    "        )\n",
    "        .with_columns(\n",
    "            pl.col(\"MisconceptionType\").str.extract(r\"Misconception([A-D])Id$\").alias(\"AnswerAlphabet\"),\n",
    "        )\n",
    "        .with_columns(\n",
    "            pl.concat_str([pl.col(\"QuestionId\"), pl.col(\"AnswerAlphabet\")], separator=\"_\").alias(\"QuestionId_Answer\"),\n",
    "        )\n",
    "        .sort(\"QuestionId_Answer\")\n",
    "        .select(pl.col([\"QuestionId_Answer\", \"MisconceptionId\"]))\n",
    "        .with_columns(pl.col(\"MisconceptionId\").cast(pl.Int64))\n",
    "    )\n",
    "    return misconception\n",
    "\n",
    "def get_fold(_train: pl.DataFrame, cv: list[tuple[np.ndarray, np.ndarray]]) -> pl.DataFrame:\n",
    "    \"\"\"\n",
    "    trainにfoldのcolumnを付与する\n",
    "    \"\"\"\n",
    "    train = _train.clone()\n",
    "    train = train.with_columns(pl.lit(-1).alias(\"fold\"))\n",
    "    for fold, (train_idx, valid_idx) in enumerate(cv):\n",
    "        train = train.with_columns(\n",
    "            pl.when(pl.col(\"index\").is_in(valid_idx)).then(fold).otherwise(pl.col(\"fold\")).alias(\"fold\")\n",
    "        )\n",
    "    return train\n",
    "\n",
    "\n",
    "def get_groupkfold(train: pl.DataFrame, group_col: str, n_splits: int, seed: int) -> pl.DataFrame:\n",
    "    group_ids = train[group_col].unique()\n",
    "    kf = KFold(n_splits=n_splits, shuffle=True, random_state=seed)\n",
    "    cv = []\n",
    "    for train_idx, valid_idx in kf.split(X=group_ids):\n",
    "        new_train_idx = train.filter(train[group_col].is_in(group_ids[train_idx])).select(pl.col(\"index\")).to_numpy().flatten()\n",
    "        new_valid_idx = train.filter(train[group_col].is_in(group_ids[valid_idx])).select(pl.col(\"index\")).to_numpy().flatten()\n",
    "        cv.append((new_train_idx, new_valid_idx))\n",
    "    return get_fold(train, cv)\n",
    "\n",
    "\n",
    "def get_stratifiedkfold(train: pl.DataFrame, target_col: str, n_splits: int, seed: int) -> pl.DataFrame:\n",
    "    kf = StratifiedKFold(n_splits=n_splits, shuffle=True, random_state=seed)\n",
    "    cv = list(kf.split(X=train, y=train[target_col].to_numpy()))\n",
    "    return get_fold(train, cv)"
   ]
  },
  {
   "cell_type": "code",
   "execution_count": null,
   "metadata": {},
   "outputs": [],
   "source": [
    "def add_fold(df: pl.DataFrame, split_rate:float=0.9, n_splits=5, seed:int=0):\n",
    "    tmp = df.with_row_index()    \n",
    "    df1 = tmp.sort(\"index\")\n",
    "    # df1 = tmp.sample(fraction=split_rate, shuffle=True, seed=seed)\n",
    "    # df2 = tmp.filter(~pl.col(\"index\").is_in(df1[\"index\"]))\n",
    "    df1 = get_groupkfold(df1, group_col=\"MisconceptionId\", n_splits=n_splits, seed=seed)\n",
    "    # if len(df2) > 0:\n",
    "    #     df2 = get_stratifiedkfold(df2, target_col=\"MisconceptionId\", n_splits=n_splits, seed=seed)\n",
    "    #     all_df = pl.concat([df1, df2])\n",
    "    # else:\n",
    "    all_df = df1\n",
    "    train = all_df.filter(pl.col(\"fold\") != 0)\n",
    "    valid = all_df.filter(pl.col(\"fold\") == 0)\n",
    "\n",
    "    train_misconception_ids = train[\"MisconceptionId\"].to_list()\n",
    "    valid_misconception_ids = valid[\"MisconceptionId\"].to_list()\n",
    "    unseen_misconceotion_ids = list(set(valid_misconception_ids) - set(train_misconception_ids))\n",
    "    unseen_valid_size = valid.filter(pl.col(\"MisconceptionId\").is_in(unseen_misconceotion_ids)).shape[0]\n",
    "    unseen_rate = unseen_valid_size / valid.shape[0]\n",
    "    return all_df.drop(\"index\").sort(\"QuestionId_Answer\")"
   ]
  },
  {
   "cell_type": "code",
   "execution_count": null,
   "metadata": {},
   "outputs": [],
   "source": [
    "train = pl.read_csv(\"/home/user/work/input/eedi-mining-misconceptions-in-mathematics/train.csv\")\n",
    "misconception_mapping = pl.read_csv(\"/home/user/work/input/eedi-mining-misconceptions-in-mathematics/misconception_mapping.csv\")\n",
    "common_cols = [\"QuestionId\", \"ConstructName\", \"SubjectName\", \"QuestionText\", \"CorrectAnswer\"]\n",
    "df = preprocess_table(train, common_cols)\n",
    "pp_misconception = preprocess_misconception(train, common_cols)\n",
    "df = df.join(pp_misconception, on=\"QuestionId_Answer\", how=\"inner\")\n",
    "df = df.filter(pl.col(\"MisconceptionId\").is_not_null())"
   ]
  },
  {
   "cell_type": "code",
   "execution_count": null,
   "metadata": {},
   "outputs": [],
   "source": [
    "df = add_fold(df)"
   ]
  },
  {
   "cell_type": "code",
   "execution_count": null,
   "metadata": {},
   "outputs": [],
   "source": [
    "df.group_by(\"fold\").agg(pl.mean(\"MisconceptionId\")).sort(\"fold\")"
   ]
  },
  {
   "cell_type": "code",
   "execution_count": null,
   "metadata": {},
   "outputs": [],
   "source": [
    "df.group_by(\"fold\").agg(pl.mean(\"QuestionId\")).sort(\"fold\")"
   ]
  }
 ],
 "metadata": {
  "kernelspec": {
   "display_name": ".venv",
   "language": "python",
   "name": "python3"
  },
  "language_info": {
   "codemirror_mode": {
    "name": "ipython",
    "version": 3
   },
   "file_extension": ".py",
   "mimetype": "text/x-python",
   "name": "python",
   "nbconvert_exporter": "python",
   "pygments_lexer": "ipython3",
   "version": "3.10.12"
  }
 },
 "nbformat": 4,
 "nbformat_minor": 2
}
